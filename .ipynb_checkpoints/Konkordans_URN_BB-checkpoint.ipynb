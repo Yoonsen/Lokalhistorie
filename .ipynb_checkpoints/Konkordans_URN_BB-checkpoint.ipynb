{
 "cells": [
  {
   "cell_type": "markdown",
   "metadata": {},
   "source": [
    "## Konkordanser mot BB-korpus\n",
    "\n",
    "Versjon: **April 2019**\n",
    "\n",
    "Velg `Run all` fra Cell-menyen over. Den grå knappen nedenfor slår kodevisning av og på. \n"
   ]
  },
  {
   "cell_type": "code",
   "execution_count": null,
   "metadata": {},
   "outputs": [],
   "source": [
    "!curl -s https://raw.githubusercontent.com/yoonsen/modules/master/module_update.py > module_update.py"
   ]
  },
  {
   "cell_type": "code",
   "execution_count": null,
   "metadata": {},
   "outputs": [],
   "source": [
    "from module_update import css, code_toggle, update, printmd"
   ]
  },
  {
   "cell_type": "code",
   "execution_count": null,
   "metadata": {},
   "outputs": [],
   "source": [
    "css()"
   ]
  },
  {
   "cell_type": "code",
   "execution_count": null,
   "metadata": {},
   "outputs": [],
   "source": [
    "code_toggle()"
   ]
  },
  {
   "cell_type": "code",
   "execution_count": null,
   "metadata": {},
   "outputs": [],
   "source": [
    "import nbtext as nb\n",
    "import ipywidgets as widgets\n",
    "from ipywidgets import interact, interact_manual\n",
    "%matplotlib inline"
   ]
  },
  {
   "cell_type": "code",
   "execution_count": null,
   "metadata": {},
   "outputs": [],
   "source": [
    "import os\n",
    "try:\n",
    "    _,_,korpusfiles = next(os.walk('./Analysekorpus'))\n",
    "except:\n",
    "    print('noe gikk galt med å hente ut korpuset')"
   ]
  },
  {
   "cell_type": "code",
   "execution_count": null,
   "metadata": {},
   "outputs": [],
   "source": [
    "bb_korpus = dict()\n",
    "for f in korpusfiles:\n",
    "    bb_korpus[f.split('.docx')[0]] = list(set(nb.get_urns_from_docx(os.path.join('./Analysekorpus', f))))\n",
    "printmd(\"\"\"## Delkorpus: \\n {defs}\"\"\".format(defs = '\\n\\n 1. ' + '\\n\\n 1. '.join(list(bb_korpus.keys()))))"
   ]
  },
  {
   "cell_type": "markdown",
   "metadata": {},
   "source": [
    "## Konkordanser\n",
    "Finn konkordanser. Fyll inn et eller flere søkeord (skilt med komma, men det ser ut som det går tregere med flere ord), og klikk `Run Interact`. Det er forskjell på store og små bokstaver."
   ]
  },
  {
   "cell_type": "code",
   "execution_count": null,
   "metadata": {},
   "outputs": [],
   "source": [
    "from random import sample\n",
    "import inspect\n",
    "\n"
   ]
  },
  {
   "cell_type": "code",
   "execution_count": null,
   "metadata": {},
   "outputs": [],
   "source": [
    "res = dict()"
   ]
  },
  {
   "cell_type": "code",
   "execution_count": null,
   "metadata": {},
   "outputs": [],
   "source": []
  },
  {
   "cell_type": "code",
   "execution_count": null,
   "metadata": {
    "scrolled": false
   },
   "outputs": [],
   "source": [
    "def konk(korpus = widgets.Dropdown(options=list(bb_korpus.keys()), value='BB.Urn.alle'), \n",
    "         søkeord='', \n",
    "         før = (0,12), \n",
    "         etter = (0,12), \n",
    "         periode = widgets.IntRangeSlider(min=1970, max=2015, value=[1970, 2015]), \n",
    "         grense = (0,10), \n",
    "         urn_sample = (5, min(len(bb_korpus['BB.Urn.alle']), 40))\n",
    "        ):\n",
    "    søk = [s.strip() for s in søkeord.split(',')]\n",
    "    new_urns = nb.refine_book_urn(words=søk, urns=bb_korpus[korpus], period=periode)\n",
    "    if len(new_urns) >= 20:\n",
    "        search_urns = sample(new_urns, min(urn_sample, len(new_urns)))\n",
    "    else:\n",
    "        search_urns = new_urns\n",
    "    if search_urns != []:\n",
    "        res[søkeord] = nb.urn_concordance(urns = search_urns, word=søk)\n",
    "    else:\n",
    "        printmd(\"Korpuset er tomt\")\n",
    "        res[søkeord] = []\n",
    "    return res[søkeord]\n",
    "\n",
    "im = interact_manual(konk);\n",
    "\n",
    "# finn ut hvor mange argumenter det er og sett navn på siste, som er ok-knappen\n",
    "\n",
    "frame = inspect.currentframe()\n",
    "args, _, _, _ = inspect.getargvalues(frame)\n",
    "im.widget.children[len(args) - 2].description = 'Hent konkordanser!'"
   ]
  }
 ],
 "metadata": {
  "hide_input": false,
  "kernelspec": {
   "display_name": "Python 3",
   "language": "python",
   "name": "python3"
  },
  "language_info": {
   "codemirror_mode": {
    "name": "ipython",
    "version": 3
   },
   "file_extension": ".py",
   "mimetype": "text/x-python",
   "name": "python",
   "nbconvert_exporter": "python",
   "pygments_lexer": "ipython3",
   "version": "3.7.1"
  }
 },
 "nbformat": 4,
 "nbformat_minor": 2
}
