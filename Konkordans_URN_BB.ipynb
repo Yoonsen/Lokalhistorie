{
 "cells": [
  {
   "cell_type": "markdown",
   "metadata": {},
   "source": [
    "## Konkordanser mot BB-korpus\n",
    "\n",
    "Versjon: **April 2019**\n",
    "\n",
    "Velg `Run all` fra Cell-menyen over. Den grå knappen nedenfor slår kodevisning av og på. \n"
   ]
  },
  {
   "cell_type": "code",
   "execution_count": 2,
   "metadata": {},
   "outputs": [],
   "source": [
    "from dhlab.module_update import css, code_toggle, update, printmd"
   ]
  },
  {
   "cell_type": "code",
   "execution_count": 3,
   "metadata": {},
   "outputs": [
    {
     "data": {
      "text/html": [
       "<style>@import url(\n",
       "http://fonts.googleapis.com/css?family=Lato|Philosopher|Montserrat|Source+Code+Pro|Istok+Web|Philosopher|Assistant:200,400,700);\n",
       "\n",
       "/*\n",
       "#notebook-container {\n",
       "\t-webkit-box-shadow: none;\n",
       "\tbox-shadow: none;\n",
       "}\n",
       "*/\n",
       "\n",
       "h1, h2, h3, h4, h5, h6 {\n",
       "\tfont-family: 'Montserrat', sans-serif;\n",
       "\tline-height: 2em;\n",
       "    color: #004f99;\n",
       "    font-weight: 600;\n",
       "}\n",
       "\n",
       "h1 { font-size: 4.5em; }\n",
       "h2 { font-size: 4em; }\n",
       "h3 { font-size: 3.5em; }\n",
       "h4 { font-size: 3em; }\n",
       "h5 { font-size: 2.5em; color:DarkSlateGray; }\n",
       "h6 { font-size: 2em; }\n",
       "\n",
       "p {\n",
       "\tfont-family: 'Assistant', sans-serif; \n",
       "\tfont-size: 1.2em;\n",
       "\tline-height: 1.4em;\n",
       "\tcolor: black;\n",
       "}\n",
       "p code {\n",
       "\tfont-size:0.9em;\n",
       "}\n",
       "div.input_area {\n",
       "\tborder:none !important;\n",
       "\tborder-left:1px solid #ff851b !important\n",
       "}\n",
       "\n",
       "span.cm-keyword {\n",
       "\tcolor:#339966 !important;\n",
       "}\n",
       "span.nn {  /*span.cm-variable, span.cm-property*/\n",
       "\tcolor: #3399ff !important;\n",
       "}\n",
       "div.CodeMirror {\n",
       "\tfont-family: 'Inconsolata', monospace;\n",
       "\tfont-size: 1.1em;\n",
       "\t\n",
       "}\n",
       "</style>"
      ],
      "text/plain": [
       "<IPython.core.display.HTML object>"
      ]
     },
     "execution_count": 3,
     "metadata": {},
     "output_type": "execute_result"
    }
   ],
   "source": [
    "css()"
   ]
  },
  {
   "cell_type": "code",
   "execution_count": 10,
   "metadata": {},
   "outputs": [
    {
     "data": {
      "text/html": [
       "<div>\n",
       "                <style>\n",
       "                 .mybutton {\n",
       "                    background-color: lightgrey;\n",
       "                    border: none;\n",
       "                    color: white;\n",
       "                    padding: 10px 16px;\n",
       "                    text-align: center;\n",
       "                    text-decoration: none;\n",
       "                    display: inline-block;\n",
       "                    font-size: 16px;\n",
       "                    margin: 4px 2px;\n",
       "                    cursor: pointer;\n",
       "                }\n",
       "            </style>\n",
       "            <script>\n",
       "                code_show=true; \n",
       "                function code_toggle() {\n",
       "                 if (code_show){\n",
       "                 $('div.input').hide();\n",
       "                 } else {\n",
       "                 $('div.input').show();\n",
       "                 }\n",
       "                 code_show = !code_show\n",
       "                } \n",
       "                $( document ).ready(code_toggle);\n",
       "            </script>\n",
       "            <form  action=\"javascript:code_toggle()\">\n",
       "                <input class='mybutton' type=\"submit\" value=\"Klikk for å vise/skjule kodeceller\">\n",
       "            </form>\n",
       "        </div>"
      ],
      "text/plain": [
       "<IPython.core.display.HTML object>"
      ]
     },
     "metadata": {},
     "output_type": "display_data"
    }
   ],
   "source": [
    "code_toggle()"
   ]
  },
  {
   "cell_type": "code",
   "execution_count": 4,
   "metadata": {},
   "outputs": [],
   "source": [
    "import dhlab.nbtext as nb\n",
    "import ipywidgets as widgets\n",
    "from ipywidgets import interact, interact_manual\n",
    "%matplotlib inline"
   ]
  },
  {
   "cell_type": "code",
   "execution_count": 5,
   "metadata": {},
   "outputs": [],
   "source": [
    "import os\n",
    "try:\n",
    "    _,_,korpusfiles = next(os.walk('./Analysekorpus'))\n",
    "except:\n",
    "    print('noe gikk galt med å hente ut korpuset')"
   ]
  },
  {
   "cell_type": "code",
   "execution_count": 6,
   "metadata": {},
   "outputs": [
    {
     "data": {
      "text/markdown": [
       "## Delkorpus: \n",
       " \n",
       "\n",
       " 1. 1970.Korpus.menn\n",
       "\n",
       " 1. BB.1990.Menn\n",
       "\n",
       " 1. BB.Korpus.1980.Menn\n",
       "\n",
       " 1. BB.Urn.alle\n",
       "\n",
       " 1. BB.Urn.kvinner\n",
       "\n",
       " 1. BB.Urn.menn"
      ],
      "text/plain": [
       "<IPython.core.display.Markdown object>"
      ]
     },
     "metadata": {},
     "output_type": "display_data"
    }
   ],
   "source": [
    "bb_korpus = dict()\n",
    "for f in korpusfiles:\n",
    "    bb_korpus[f.split('.docx')[0]] = list(set(nb.get_urns_from_docx(os.path.join('./Analysekorpus', f))))\n",
    "printmd(\"\"\"## Delkorpus: \\n {defs}\"\"\".format(defs = '\\n\\n 1. ' + '\\n\\n 1. '.join(list(bb_korpus.keys()))))"
   ]
  },
  {
   "cell_type": "markdown",
   "metadata": {},
   "source": [
    "## Konkordanser\n",
    "Finn konkordanser. Fyll inn et eller flere søkeord (skilt med komma, men det ser ut som det går tregere med flere ord), og klikk `Run Interact`. Det er forskjell på store og små bokstaver."
   ]
  },
  {
   "cell_type": "code",
   "execution_count": 7,
   "metadata": {},
   "outputs": [],
   "source": [
    "from random import sample\n",
    "import inspect\n",
    "\n"
   ]
  },
  {
   "cell_type": "code",
   "execution_count": 8,
   "metadata": {},
   "outputs": [],
   "source": [
    "res = dict()"
   ]
  },
  {
   "cell_type": "code",
   "execution_count": null,
   "metadata": {},
   "outputs": [],
   "source": []
  },
  {
   "cell_type": "code",
   "execution_count": 9,
   "metadata": {
    "scrolled": false
   },
   "outputs": [
    {
     "data": {
      "application/vnd.jupyter.widget-view+json": {
       "model_id": "fc6be7e633b24bcca73386b85d5edeac",
       "version_major": 2,
       "version_minor": 0
      },
      "text/plain": [
       "interactive(children=(Dropdown(description='korpus', index=3, options=('1970.Korpus.menn', 'BB.1990.Menn', 'BB…"
      ]
     },
     "metadata": {},
     "output_type": "display_data"
    }
   ],
   "source": [
    "def konk(korpus = widgets.Dropdown(options=list(bb_korpus.keys()), value='BB.Urn.alle'), \n",
    "         søkeord='', \n",
    "         før = (0,12), \n",
    "         etter = (0,12), \n",
    "         periode = widgets.IntRangeSlider(min=1970, max=2015, value=[1970, 2015]), \n",
    "         grense = (0,10), \n",
    "         urn_sample = (5, min(len(bb_korpus['BB.Urn.alle']), 40))\n",
    "        ):\n",
    "    søk = [s.strip() for s in søkeord.split(',')]\n",
    "    new_urns = nb.refine_book_urn(words=søk, urns=bb_korpus[korpus], period=periode)\n",
    "    if len(new_urns) >= 20:\n",
    "        search_urns = sample(new_urns, min(urn_sample, len(new_urns)))\n",
    "    else:\n",
    "        search_urns = new_urns\n",
    "    if search_urns != []:\n",
    "        res[søkeord] = nb.urn_concordance(urns = search_urns, word=søk)\n",
    "    else:\n",
    "        printmd(\"Korpuset er tomt\")\n",
    "        res[søkeord] = []\n",
    "    return res[søkeord]\n",
    "\n",
    "im = interact_manual(konk);\n",
    "\n",
    "# finn ut hvor mange argumenter det er og sett navn på siste, som er ok-knappen\n",
    "\n",
    "frame = inspect.currentframe()\n",
    "args, _, _, _ = inspect.getargvalues(frame)\n",
    "im.widget.children[len(args) - 2].description = 'Hent konkordanser!'"
   ]
  },
  {
   "cell_type": "code",
   "execution_count": null,
   "metadata": {},
   "outputs": [],
   "source": []
  }
 ],
 "metadata": {
  "hide_input": false,
  "kernelspec": {
   "display_name": "Python 3",
   "language": "python",
   "name": "python3"
  },
  "language_info": {
   "codemirror_mode": {
    "name": "ipython",
    "version": 3
   },
   "file_extension": ".py",
   "mimetype": "text/x-python",
   "name": "python",
   "nbconvert_exporter": "python",
   "pygments_lexer": "ipython3",
   "version": "3.7.3"
  }
 },
 "nbformat": 4,
 "nbformat_minor": 2
}
